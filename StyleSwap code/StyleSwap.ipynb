{
 "cells": [
  {
   "cell_type": "code",
   "execution_count": null,
   "metadata": {
    "colab": {
     "base_uri": "https://localhost:8080/"
    },
    "executionInfo": {
     "elapsed": 199,
     "status": "ok",
     "timestamp": 1625898971945,
     "user": {
      "displayName": "Matteo Merlo",
      "photoUrl": "",
      "userId": "15005373791723319454"
     },
     "user_tz": -120
    },
    "id": "_xfqRqVXQVRN",
    "outputId": "58f52619-3f06-496c-a5e1-79b48af842ed"
   },
   "outputs": [],
   "source": [
    "from google.colab import drive\n",
    "drive.mount('/content/drive')"
   ]
  },
  {
   "cell_type": "code",
   "execution_count": null,
   "metadata": {
    "colab": {
     "base_uri": "https://localhost:8080/"
    },
    "executionInfo": {
     "elapsed": 762,
     "status": "ok",
     "timestamp": 1625920974605,
     "user": {
      "displayName": "Matteo Merlo",
      "photoUrl": "",
      "userId": "15005373791723319454"
     },
     "user_tz": -120
    },
    "id": "8J_YyHF4icoh",
    "outputId": "e533cdf0-1fb4-4c0d-9159-503b0cc82cb0"
   },
   "outputs": [],
   "source": [
    "%cd /content/drive/MyDrive/ColabNotebooks/StyleSwap"
   ]
  },
  {
   "cell_type": "code",
   "execution_count": null,
   "metadata": {
    "colab": {
     "base_uri": "https://localhost:8080/"
    },
    "executionInfo": {
     "elapsed": 1437188,
     "status": "ok",
     "timestamp": 1625909168316,
     "user": {
      "displayName": "Matteo Merlo",
      "photoUrl": "",
      "userId": "15005373791723319454"
     },
     "user_tz": -120
    },
    "id": "WWRHgiNXNdj-",
    "outputId": "faad42d4-52c3-4a1a-d606-d223a5f483ce"
   },
   "outputs": [],
   "source": [
    "!python neural_style/neural_style.py train --epochs 4 --style-weight 3e9 --image-size 256 --style-image images/style-images/camvid16.jpg --dataset ../datasets/IDDA_2 --save-model-dir ./models --checkpoint-model-dir ./checkpoints --cuda 1"
   ]
  },
  {
   "cell_type": "code",
   "execution_count": null,
   "metadata": {
    "executionInfo": {
     "elapsed": 5057,
     "status": "ok",
     "timestamp": 1625922185435,
     "user": {
      "displayName": "Matteo Merlo",
      "photoUrl": "",
      "userId": "15005373791723319454"
     },
     "user_tz": -120
    },
    "id": "aE3aOx68k5Bm"
   },
   "outputs": [],
   "source": [
    "!python neural_style/neural_style.py eval --content-image images/content-images/idda1.jpg --model models/camvid3.model --output-image images/output-images/output.jpg --cuda 1"
   ]
  },
  {
   "cell_type": "code",
   "execution_count": null,
   "metadata": {
    "id": "cQp4MPrQRPBN"
   },
   "outputs": [],
   "source": []
  }
 ],
 "metadata": {
  "accelerator": "GPU",
  "colab": {
   "authorship_tag": "ABX9TyMXBxrDG+K5KQkHqGilEsIC",
   "collapsed_sections": [],
   "machine_shape": "hm",
   "mount_file_id": "1_p0avENf3b-rdhB7Bf2lVXgUVJ1y16pX",
   "name": "StyleSwap.ipynb",
   "provenance": []
  },
  "kernelspec": {
   "display_name": "Python 3 (ipykernel)",
   "language": "python",
   "name": "python3"
  },
  "language_info": {
   "codemirror_mode": {
    "name": "ipython",
    "version": 3
   },
   "file_extension": ".py",
   "mimetype": "text/x-python",
   "name": "python",
   "nbconvert_exporter": "python",
   "pygments_lexer": "ipython3",
   "version": "3.10.4"
  }
 },
 "nbformat": 4,
 "nbformat_minor": 1
}
